{
 "cells": [
  {
   "cell_type": "code",
   "execution_count": 3,
   "metadata": {},
   "outputs": [],
   "source": [
    "import yfinance as yf\n",
    "import numpy as np\n",
    "import pandas as pd\n",
    "import matplotlib.pyplot as plt\n",
    "from sklearn.preprocessing import MinMaxScaler\n",
    "from tensorflow.keras.models import Sequential\n",
    "from tensorflow.keras.layers import LSTM, Dense"
   ]
  },
  {
   "cell_type": "code",
   "execution_count": 4,
   "metadata": {},
   "outputs": [],
   "source": [
    "# Define the stock symbol and date range\n",
    "stock_symbol = 'AAPL'\n",
    "start_date = '2010-01-01'\n",
    "end_date = '2021-01-01'\n"
   ]
  },
  {
   "cell_type": "code",
   "execution_count": 5,
   "metadata": {},
   "outputs": [
    {
     "name": "stdout",
     "output_type": "stream",
     "text": [
      "[*********************100%%**********************]  1 of 1 completed\n"
     ]
    }
   ],
   "source": [
    "# Fetch historical stock price data\n",
    "df = yf.download(stock_symbol, start=start_date, end=end_date)"
   ]
  },
  {
   "cell_type": "code",
   "execution_count": 6,
   "metadata": {},
   "outputs": [],
   "source": [
    "# Extract the 'Close' prices\n",
    "prices = df['Close'].values.reshape(-1, 1)"
   ]
  },
  {
   "cell_type": "code",
   "execution_count": 7,
   "metadata": {},
   "outputs": [],
   "source": [
    "# Normalize the data\n",
    "scaler = MinMaxScaler()\n",
    "prices_scaled = scaler.fit_transform(prices)"
   ]
  },
  {
   "cell_type": "code",
   "execution_count": 8,
   "metadata": {},
   "outputs": [],
   "source": [
    "# Split the data into training and testing sets\n",
    "train_size = int(len(prices_scaled) * 0.8)\n",
    "train_data = prices_scaled[:train_size]\n",
    "test_data = prices_scaled[train_size:]"
   ]
  },
  {
   "cell_type": "code",
   "execution_count": 9,
   "metadata": {},
   "outputs": [],
   "source": [
    "# Create sequences for the LSTM model\n",
    "def create_sequences(df, seq_length):\n",
    "    X, y = [], []\n",
    "    for i in range(len(df) - seq_length):\n",
    "        X.append(df[i:i+seq_length])\n",
    "        y.append(df[i+seq_length])\n",
    "    return np.array(X), np.array(y)\n",
    "\n",
    "seq_length = 10\n",
    "X_train, y_train = create_sequences(train_data, seq_length)\n",
    "X_test, y_test = create_sequences(test_data, seq_length)"
   ]
  },
  {
   "cell_type": "code",
   "execution_count": 10,
   "metadata": {},
   "outputs": [],
   "source": [
    "# Build the LSTM model\n",
    "model = Sequential()\n",
    "model.add(LSTM(50, activation='relu', input_shape=(seq_length, 1)))\n",
    "model.add(Dense(1))\n",
    "model.compile(optimizer='adam', loss='mean_squared_error')"
   ]
  },
  {
   "cell_type": "code",
   "execution_count": 11,
   "metadata": {},
   "outputs": [
    {
     "name": "stdout",
     "output_type": "stream",
     "text": [
      "Epoch 1/50\n",
      "69/69 [==============================] - 2s 5ms/step - loss: 0.0047\n",
      "Epoch 2/50\n",
      "69/69 [==============================] - 0s 5ms/step - loss: 3.4544e-05\n",
      "Epoch 3/50\n",
      "69/69 [==============================] - 0s 5ms/step - loss: 2.9144e-05\n",
      "Epoch 4/50\n",
      "69/69 [==============================] - 0s 4ms/step - loss: 3.0487e-05\n",
      "Epoch 5/50\n",
      "69/69 [==============================] - 0s 4ms/step - loss: 2.9440e-05\n",
      "Epoch 6/50\n",
      "69/69 [==============================] - 0s 5ms/step - loss: 2.8123e-05\n",
      "Epoch 7/50\n",
      "69/69 [==============================] - 0s 5ms/step - loss: 3.1437e-05\n",
      "Epoch 8/50\n",
      "69/69 [==============================] - 0s 4ms/step - loss: 2.7297e-05\n",
      "Epoch 9/50\n",
      "69/69 [==============================] - 0s 5ms/step - loss: 3.1082e-05\n",
      "Epoch 10/50\n",
      "69/69 [==============================] - 0s 4ms/step - loss: 2.6826e-05\n",
      "Epoch 11/50\n",
      "69/69 [==============================] - 0s 4ms/step - loss: 2.6620e-05\n",
      "Epoch 12/50\n",
      "69/69 [==============================] - 0s 5ms/step - loss: 2.7771e-05\n",
      "Epoch 13/50\n",
      "69/69 [==============================] - 0s 5ms/step - loss: 2.6719e-05\n",
      "Epoch 14/50\n",
      "69/69 [==============================] - 0s 4ms/step - loss: 2.6767e-05\n",
      "Epoch 15/50\n",
      "69/69 [==============================] - 0s 5ms/step - loss: 2.7993e-05\n",
      "Epoch 16/50\n",
      "69/69 [==============================] - 0s 5ms/step - loss: 2.6520e-05\n",
      "Epoch 17/50\n",
      "69/69 [==============================] - 0s 4ms/step - loss: 2.5782e-05\n",
      "Epoch 18/50\n",
      "69/69 [==============================] - 0s 5ms/step - loss: 2.5745e-05\n",
      "Epoch 19/50\n",
      "69/69 [==============================] - 0s 6ms/step - loss: 2.7938e-05\n",
      "Epoch 20/50\n",
      "69/69 [==============================] - 0s 5ms/step - loss: 2.4768e-05\n",
      "Epoch 21/50\n",
      "69/69 [==============================] - 0s 6ms/step - loss: 2.7313e-05\n",
      "Epoch 22/50\n",
      "69/69 [==============================] - 0s 6ms/step - loss: 2.3984e-05\n",
      "Epoch 23/50\n",
      "69/69 [==============================] - 1s 9ms/step - loss: 2.5391e-05\n",
      "Epoch 24/50\n",
      "69/69 [==============================] - 0s 6ms/step - loss: 2.3426e-05\n",
      "Epoch 25/50\n",
      "69/69 [==============================] - 1s 10ms/step - loss: 2.4110e-05\n",
      "Epoch 26/50\n",
      "69/69 [==============================] - 0s 4ms/step - loss: 2.8321e-05\n",
      "Epoch 27/50\n",
      "69/69 [==============================] - 1s 9ms/step - loss: 2.5323e-05\n",
      "Epoch 28/50\n",
      "69/69 [==============================] - 1s 7ms/step - loss: 2.3041e-05\n",
      "Epoch 29/50\n",
      "69/69 [==============================] - 0s 7ms/step - loss: 2.4655e-05\n",
      "Epoch 30/50\n",
      "69/69 [==============================] - 0s 4ms/step - loss: 2.2656e-05\n",
      "Epoch 31/50\n",
      "69/69 [==============================] - 0s 5ms/step - loss: 2.2561e-05\n",
      "Epoch 32/50\n",
      "69/69 [==============================] - 0s 5ms/step - loss: 2.2601e-05\n",
      "Epoch 33/50\n",
      "69/69 [==============================] - 0s 6ms/step - loss: 2.4036e-05\n",
      "Epoch 34/50\n",
      "69/69 [==============================] - 0s 5ms/step - loss: 2.2437e-05\n",
      "Epoch 35/50\n",
      "69/69 [==============================] - 0s 5ms/step - loss: 2.2108e-05\n",
      "Epoch 36/50\n",
      "69/69 [==============================] - 0s 6ms/step - loss: 2.2971e-05\n",
      "Epoch 37/50\n",
      "69/69 [==============================] - 0s 6ms/step - loss: 2.2167e-05\n",
      "Epoch 38/50\n",
      "69/69 [==============================] - 1s 8ms/step - loss: 2.2281e-05\n",
      "Epoch 39/50\n",
      "69/69 [==============================] - 1s 8ms/step - loss: 2.1947e-05\n",
      "Epoch 40/50\n",
      "69/69 [==============================] - 1s 9ms/step - loss: 2.2263e-05\n",
      "Epoch 41/50\n",
      "69/69 [==============================] - 1s 8ms/step - loss: 2.0307e-05\n",
      "Epoch 42/50\n",
      "69/69 [==============================] - 1s 9ms/step - loss: 2.0474e-05\n",
      "Epoch 43/50\n",
      "69/69 [==============================] - 0s 5ms/step - loss: 2.1147e-05\n",
      "Epoch 44/50\n",
      "69/69 [==============================] - 0s 4ms/step - loss: 2.0495e-05\n",
      "Epoch 45/50\n",
      "69/69 [==============================] - 0s 5ms/step - loss: 2.1259e-05\n",
      "Epoch 46/50\n",
      "69/69 [==============================] - 0s 6ms/step - loss: 2.2093e-05\n",
      "Epoch 47/50\n",
      "69/69 [==============================] - 0s 5ms/step - loss: 2.1735e-05\n",
      "Epoch 48/50\n",
      "69/69 [==============================] - 0s 5ms/step - loss: 2.0370e-05\n",
      "Epoch 49/50\n",
      "69/69 [==============================] - 0s 5ms/step - loss: 1.8652e-05\n",
      "Epoch 50/50\n",
      "69/69 [==============================] - 0s 5ms/step - loss: 2.0198e-05\n"
     ]
    },
    {
     "data": {
      "text/plain": [
       "<keras.src.callbacks.History at 0x23177fe9df0>"
      ]
     },
     "execution_count": 11,
     "metadata": {},
     "output_type": "execute_result"
    }
   ],
   "source": [
    "# Train the model\n",
    "model.fit(X_train, y_train, epochs=50, batch_size=32)"
   ]
  },
  {
   "cell_type": "code",
   "execution_count": 12,
   "metadata": {},
   "outputs": [
    {
     "name": "stdout",
     "output_type": "stream",
     "text": [
      "Training Loss: 0.0000\n",
      "Testing Loss: 0.0009\n"
     ]
    }
   ],
   "source": [
    "# Evaluate the model\n",
    "train_loss = model.evaluate(X_train, y_train, verbose=0)\n",
    "test_loss = model.evaluate(X_test, y_test, verbose=0)\n",
    "print(f'Training Loss: {train_loss:.4f}')\n",
    "print(f'Testing Loss: {test_loss:.4f}')"
   ]
  },
  {
   "cell_type": "code",
   "execution_count": 13,
   "metadata": {},
   "outputs": [
    {
     "name": "stdout",
     "output_type": "stream",
     "text": [
      "69/69 [==============================] - 1s 5ms/step\n",
      "17/17 [==============================] - 0s 7ms/step\n"
     ]
    }
   ],
   "source": [
    "# Make predictions\n",
    "train_predictions = model.predict(X_train)\n",
    "test_predictions = model.predict(X_test)\n",
    "\n",
    "# Inverse transform the predictions to get actual prices\n",
    "train_predictions = scaler.inverse_transform(train_predictions)\n",
    "test_predictions = scaler.inverse_transform(test_predictions)"
   ]
  },
  {
   "cell_type": "code",
   "execution_count": 14,
   "metadata": {},
   "outputs": [
    {
     "data": {
      "image/png": "[encoded data removed]",
      "text/plain": [
       "<Figure size 864x432 with 1 Axes>"
      ]
     },
     "metadata": {
      "needs_background": "light"
     },
     "output_type": "display_data"
    }
   ],
   "source": [
    "# Plot the predictions\n",
    "plt.figure(figsize=(12, 6))\n",
    "plt.plot(prices, label='Actual Prices', color='blue')\n",
    "plt.plot(range(len(prices) - len(test_predictions), len(prices)), test_predictions, label='Testing Predictions', color='red')\n",
    "plt.xlabel('Time')\n",
    "plt.ylabel('Stock Price')\n",
    "plt.legend()\n",
    "plt.show()"
   ]
  }
 ],
 "metadata": {
  "kernelspec": {
   "display_name": "Python 3 (ipykernel)",
   "language": "python",
   "name": "python3"
  },
  "language_info": {
   "codemirror_mode": {
    "name": "ipython",
    "version": 3
   },
   "file_extension": ".py",
   "mimetype": "text/x-python",
   "name": "python",
   "nbconvert_exporter": "python",
   "pygments_lexer": "ipython3",
   "version": "3.9.12"
  }
 },
 "nbformat": 4,
 "nbformat_minor": 2
}
